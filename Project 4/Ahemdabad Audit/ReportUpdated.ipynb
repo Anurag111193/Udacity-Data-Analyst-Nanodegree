{
 "cells": [
  {
   "cell_type": "markdown",
   "metadata": {},
   "source": [
    "# Open Street Map - Data Wrangling With MongoDB\n",
    "Map Area: Ahemdabad, India \n",
    "Problems Faced in the Dataset\n",
    "Ahemdabad is selected whereas Nagpur is my home town due to file sizeand apart from Nagpur Ahemdabad is the city where I know the streets and their addresses to confirm the data \n",
    "The major problems were\n",
    "Names of the places as Chowk is known as a crossway\n",
    "Various synonyms are used like for Road, RD. Road, rd etc\n",
    "Same area is represented with multiple names like Manewada and Manevada are same areas but the spelling is different"
   ]
  },
  {
   "cell_type": "markdown",
   "metadata": {},
   "source": [
    "# Solving the above problems:"
   ]
  },
  {
   "cell_type": "code",
   "execution_count": null,
   "metadata": {
    "collapsed": true
   },
   "outputs": [],
   "source": [
    "Mapping = { \n",
    "             \n",
    "             \"St.\": \"Street\",\n",
    "             \"Rd.\" : \"Road\",\n",
    "             \"N.\":\"North\",\n",
    "             \"St\" : \"Street\",\n",
    "             \"no\" : \"No\",\n",
    "             \"Rd\" : \"Road\",\n",
    "             \"ROAD\" : \"Road\",\n",
    "             \"ROad\" : \"Road\",\n",
    "             \"marg\" : \"Road\",\n",
    "             \"road\" : \"Road\",\n",
    "             \"stn\" : \"Station\",\n",
    "             \"Marg\" : \"Road\",\n",
    "             \"lane\" : \"Lane\",\n",
    "             \"sector\" : \"Sector\",\n",
    "             \"Chowk\": \"Square\",\n",
    "             \"chowk\": \"Square\",\n",
    "             \"lane\": \"Lane\",\n",
    "             \"Nagar\": \"Suburb\"\n",
    "             }"
   ]
  },
  {
   "cell_type": "markdown",
   "metadata": {},
   "source": [
    "The above lines represents the mistakes noted from the file which is to be rectified. These are language specific and needs to be removed to present a good database for the analyst to work with"
   ]
  },
  {
   "cell_type": "code",
   "execution_count": null,
   "metadata": {
    "collapsed": true
   },
   "outputs": [],
   "source": [
    "def update_name(name, mapping):\n",
    "    dict_map = sorted(mapping.keys(), key=len, reverse=True)\n",
    "    for key in dict_map:\n",
    "        \n",
    "        if name.find(key) != -1:          \n",
    "            name = name.replace(key,mapping[key])\n",
    "            return name\n",
    "\n",
    "\n",
    "    return name"
   ]
  },
  {
   "cell_type": "markdown",
   "metadata": {},
   "source": [
    "The above mentioned code helps in removing the erros of the data. It parse individual tags that contains the street names. Once the value is fetched and changed it is later checked to ensure if it is in expected value list. If not they are simply replaced with the values of the Dictionary."
   ]
  },
  {
   "cell_type": "markdown",
   "metadata": {},
   "source": [
    "Zip Code Errors\n",
    "Zip codes were coarsely depicted with less characters. all zip codes in Ahemdabad begin with 38. So all data with zip codes as 01,08 were modified as 380001 and 380008."
   ]
  },
  {
   "cell_type": "code",
   "execution_count": null,
   "metadata": {
    "collapsed": true
   },
   "outputs": [],
   "source": [
    "<tag k=\"addr:postcode\" v=\"01\"/> => <tag k=\"addr:postcode\" v=\"380001\"/> \n",
    "<tag k=\"addr:postcode\" v=\"08\"/> => <tag k=\"addr:postcode\" v=\"380008\"/>"
   ]
  },
  {
   "cell_type": "markdown",
   "metadata": {},
   "source": [
    "The reason to do this all zip codes in Ahemdabad can be expressed in two forms:\n",
    "\n",
    "they are done using two digits like 08,04,01 with 3800 prepended remaining obvious.\n",
    "therefore, in order to make sure all zip codes are in this format 3800+area code.\n",
    "Since, the code was short and there weren’t many instances of the same, attaching the snippet used"
   ]
  },
  {
   "cell_type": "code",
   "execution_count": null,
   "metadata": {
    "collapsed": true
   },
   "outputs": [],
   "source": [
    "def is_post_code(elem):\n",
    "    return (elem.attrib['k'] == \"addr:postcode\")\n",
    "\n",
    "# this part of the snippet is the same as in the case of iterative parser.\n",
    "for tag in elem.iter(\"tag\"):\n",
    "                if is_post_code(tag):\n",
    "                    if audit_post_code(tag.attrib['v']):\n",
    "                        #Update the tag attribtue\n",
    "                        tag.attrib['v'] = update_name(tag.attrib['v'])\n",
    "\n",
    "def audit_post_code(post_code):\n",
    "  if len(postcode) == 2:\n",
    "    return true\n",
    "  else:\n",
    "    return false\n",
    "\n",
    "def update_name(post_code):\n",
    "  return '3800'+post_code"
   ]
  },
  {
   "cell_type": "markdown",
   "metadata": {},
   "source": [
    "# Data Overview"
   ]
  },
  {
   "cell_type": "markdown",
   "metadata": {},
   "source": [
    "This Section Describes the statistics of the dataset used and the basic queries performed. File  size updated to 104mb as specified in the change"
   ]
  },
  {
   "cell_type": "code",
   "execution_count": null,
   "metadata": {
    "collapsed": true
   },
   "outputs": [],
   "source": [
    "Query: db.ahm.count()\n",
    "\n",
    "\n",
    "Output: 620782\n",
    "    \n",
    "    \n",
    "    This is the number of document object present in the database"
   ]
  },
  {
   "cell_type": "code",
   "execution_count": null,
   "metadata": {
    "collapsed": true
   },
   "outputs": [],
   "source": [
    "Query: db.ahm.find({\"type\":\"node\"}).count()\n",
    "\n",
    "Output: 540312\n",
    "\n",
    "    \n",
    "    \n",
    "    This is the number of node attributes present"
   ]
  },
  {
   "cell_type": "code",
   "execution_count": null,
   "metadata": {
    "collapsed": true
   },
   "outputs": [],
   "source": [
    "Query: db.ahm.find({\"type\":\"way\"}).count()\n",
    "    \n",
    "Output: 80466\n",
    "    \n",
    "    This is the number of way attribute present"
   ]
  },
  {
   "cell_type": "markdown",
   "metadata": {},
   "source": [
    "# Contributing User"
   ]
  },
  {
   "cell_type": "code",
   "execution_count": null,
   "metadata": {
    "collapsed": true
   },
   "outputs": [],
   "source": [
    "Query: db.ahm.aggregate([\n",
    "            {'$match': {'created.user':{'$exists':1}}},\n",
    "            {'$group': {'_id':'$created.user',\n",
    "                        'count':{'$sum':1}}},\n",
    "            {'$sort': {'count':-1}},\n",
    "            {'$limit' : 1}\n",
    "])\n",
    "    \n",
    "    \n",
    "    Output:  \n",
    "        \n",
    "     { \"_id\" : \"uday01\", \"count\" : 177343 }\n"
   ]
  },
  {
   "cell_type": "code",
   "execution_count": null,
   "metadata": {
    "collapsed": true
   },
   "outputs": [],
   "source": [
    "Number of users having a single post\n",
    "\n",
    "Query: db.ahm.aggregate([{\"$group\":{\"_id\":\"$created.user\", \n",
    "                                        \"count\":{\"$sum\":1}}}, {\"$group\":{\"_id\":\"$count\", \"num_users\":{\"$sum\":1}}}, \n",
    "                             {\"$sort\":{\"_id\":1}}, {\"$limit\":1}])\n",
    "\n",
    "Output:\n",
    "{ \"_id\" : 1, \"num_users\" : 63 }"
   ]
  },
  {
   "cell_type": "code",
   "execution_count": null,
   "metadata": {
    "collapsed": true
   },
   "outputs": [],
   "source": [
    "Top Contributing Users:\n",
    "    \n",
    "    Query:\n",
    "        db.ahm.aggregate([\n",
    "            {'$match': {'created.user':{'$exists':1}}},\n",
    "            {'$group': {'_id':'$created.user',\n",
    "                        'count':{'$sum':1}}},\n",
    "            {'$sort': {'count':-1}},\n",
    "            {'$limit' : 5}\n",
    "])\n",
    "        \n",
    "        Output: \n",
    "            { \"_id\" : \"uday01\", \"count\" : 177343 }\n",
    "{ \"_id\" : \"sramesh\", \"count\" : 136822 }\n",
    "{ \"_id\" : \"chaitanya110\", \"count\" : 123307 }\n",
    "{ \"_id\" : \"shashi2\", \"count\" : 49514 }\n",
    "{ \"_id\" : \"shravan91\", \"count\" : 22461 }\n"
   ]
  },
  {
   "cell_type": "code",
   "execution_count": null,
   "metadata": {
    "collapsed": true
   },
   "outputs": [],
   "source": [
    "Data With Street Names:\n",
    "    \n",
    "    Query:db.ahm.aggregate([\n",
    "            {'$match': {'address.street':{'$exists':1}}},\n",
    "            {'$limit' : 5}\n",
    "            \n",
    "])\n",
    "        \n",
    "        \n",
    "        Output:\n",
    "            { \"_id\" : ObjectId(\"584aebb87e546026a0116d5b\"), \"amenity\" : \"school\", \"name\" : \"Street Xavier's High School, Loyola Hall\", \"created\" : { \"changeset\" : \"1622675\", \"user\" : \"thepatel\", \"version\" : \"1\", \"uid\" : \"138012\", \"timestamp\" : \"2009-06-25T13:34:41Z\" }, \"pos\" : [ 23.047875, 72.5490839 ], \"address\" : { \"street\" : \"Street Xavier's High School, Loyola Hall\" }, \"type\" : \"node\", \"id\" : \"429228993\" }\n",
    "{ \"_id\" : ObjectId(\"584aebb87e546026a0116d5c\"), \"layer\" : \"1\", \"name\" : \"Ellisbridge Gymkhana\", \"created\" : { \"changeset\" : \"27499936\", \"user\" : \"shravan91\", \"version\" : \"4\", \"uid\" : \"1051550\", \"timestamp\" : \"2014-12-16T07:05:37Z\" }, \"pos\" : [ 23.0231449, 72.5601423 ], \"leisure\" : \"sports_centre\", \"address\" : { \"city\" : \"Ahmedabad\", \"street\" : \"Netaji Subhash Chandra Road\", \"postcode\" : \"380006\" }, \"sport\" : \"multi\", \"type\" : \"node\", \"id\" : \"429228996\" }\n",
    "{ \"_id\" : ObjectId(\"584aebb87e546026a011745f\"), \"amenity\" : \"college\", \"name\" : \"Street Xavier's College\", \"created\" : { \"changeset\" : \"1649373\", \"user\" : \"thepatel\", \"version\" : \"1\", \"uid\" : \"138012\", \"timestamp\" : \"2009-06-27T13:13:11Z\" }, \"pos\" : [ 23.0329052, 72.5517045 ], \"address\" : { \"street\" : \"Street Xavier's College\" }, \"type\" : \"node\", \"id\" : \"429795953\" }\n",
    "{ \"_id\" : ObjectId(\"584aebb87e546026a0118bf8\"), \"website\" : \"http://www.cafeuppercrust.com/\", \"cuisine\" : \"international\", \"amenity\" : \"restaurant\", \"capacity\" : \"40\", \"name\" : \"Upper Crust Cafe\", \"created\" : { \"changeset\" : \"27498669\", \"user\" : \"shravan91\", \"version\" : \"3\", \"uid\" : \"1051550\", \"timestamp\" : \"2014-12-16T04:57:29Z\" }, \"opening_hours\" : \"07:00-23:00\", \"wheelchair\" : \"no\", \"pos\" : [ 23.0412121, 72.5485673 ], \"phone\" : \"91-79-26401554\", \"source\" : \"http://www.cafeuppercrust.com/cafe-uppercrust.php\", \"address\" : { \"city\" : \"Ahmedabad\", \"street\" : \"Vijay Cross Roads\", \"housenumber\" : \"Aarohi Complex\", \"postcode\" : \"380009\" }, \"smoking\" : \"no\", \"type\" : \"node\", \"id\" : \"1313805181\" }\n",
    "{ \"_id\" : ObjectId(\"584aebb87e546026a0118e38\"), \"name\" : \"Mahendrakumar Sampatlal Shah\", \"designation\" : \"Owner\", \"created\" : { \"changeset\" : \"29613854\", \"user\" : \"shravan91\", \"version\" : \"3\", \"uid\" : \"1051550\", \"timestamp\" : \"2015-03-20T12:54:20Z\" }, \"old_name\" : \"Sampatlal Raichand Shah\", \"pos\" : [ 23.0497885, 72.5985435 ], \"source\" : \"Owner\", \"alt_name\" : \"Megh Prem\", \"address\" : { \"housenumber\" : \"48/1 Girdharnagar Society Shahibaug\", \"street\" : \"Girdharnagar Road\", \"housename\" : \"Megh Prem\", \"postcode\" : \"380004\" }, \"type\" : \"node\", \"id\" : \"1369667053\" }\n",
    "\n",
    "            "
   ]
  },
  {
   "cell_type": "code",
   "execution_count": null,
   "metadata": {
    "collapsed": true
   },
   "outputs": [],
   "source": [
    "Bank Names:\n",
    "    \n",
    "    Query:\n",
    "        \n",
    "        \n",
    "db.ahm.aggregate([\n",
    "            {'$match': {'amenity':'bank',\n",
    "                        'name':{'$exists':1}}},\n",
    "            {'$project':{'_id':'$name',\n",
    "                         'contact':'$phone'}}\n",
    "])\n",
    "\n",
    "\n",
    "Output:\n",
    "    { \"_id\" : \"029\" }\n",
    "{ \"_id\" : \"Indian Bank\" }\n",
    "{ \"_id\" : \"State Bank of India, St. Xavier's School Road Branch\" }\n",
    "{ \"_id\" : \"Indian Bank\" }\n",
    "{ \"_id\" : \"Central Bank of India, St. Xavier's School Road Branch\" }\n",
    "{ \"_id\" : \"Kalupur Commercial Co-operative Bank\" }\n",
    "{ \"_id\" : \"Bank of Baroda\" }\n",
    "{ \"_id\" : \"Ahmedabad District Cooperative Bank\" }\n",
    "{ \"_id\" : \"The State Bank of India, Ahmedabad Office\" }\n",
    "{ \"_id\" : \"Citibank\" }\n",
    "{ \"_id\" : \"The State Bank of India, Ahmedabad Office\" }\n",
    "{ \"_id\" : \"Kotak Mahindra Bank\" }\n",
    "{ \"_id\" : \"Central Bank of India\" }\n",
    "{ \"_id\" : \"HDFC Bank Relief Road Branch\" }\n",
    "{ \"_id\" : \"HDFC Bank Relief Road Branch\" }\n",
    "{ \"_id\" : \"Bank of India\" }\n",
    "{ \"_id\" : \"HDFC Bank\" }\n",
    "{ \"_id\" : \"Gol Bank\" }\n",
    "{ \"_id\" : \"Bank of Baroda\" }\n",
    "{ \"_id\" : \"HDFC Bank\" }\n",
    "Type \"it\" for more\n"
   ]
  },
  {
   "cell_type": "markdown",
   "metadata": {
    "collapsed": true
   },
   "source": [
    "Conclusion:\n",
    "After studying the map and its output the cleaned document is still not perfect there are many errors still present. For example the last query states the bank but the information like contact infor, branch is not available. Since there are a few users who have provided the data the authentication of the data is missing. As a resident there is a lot of data missing from the file. \n",
    "\n",
    "\n",
    "To enhance the cleaning:\n",
    "\n",
    "1. we can divide the data into categories\n",
    "\n",
    "The categories can be like streets, Restaurants, Banks. When the data is divided into such categories then when there is analysis like if the question is to find a paticular street in the system then the data of restaurants or banks are of no use to us. \n",
    "\n",
    "2. Data Sources: \n",
    "\n",
    "the data is only of OpenStreet Maps we can pull data from various sources like google maps, various maps APIs and other repositories can be combined to provide the analysis so that the system can be more reliable. The data from different sources can too be redundant or there may be data which is paid like the API's and plugins which are to purchased for getting data.\n",
    "\n",
    "3. Missing Data:\n",
    "\n",
    "we can see that the top 5 users have given the maximum data therefore the data is skewed and a lot of data is missing, if the user is asked for more data at the time of input then this problem can be easily removed. there can be redundancy here too as the data from the user can not be fully trusted while performaing analysis. \n",
    "\n"
   ]
  },
  {
   "cell_type": "markdown",
   "metadata": {},
   "source": [
    "References:\n",
    "https://docs.mongodb.com/getting-started/shell/query/\n",
    "\n",
    "\n",
    "https://docs.mongodb.com/manual/aggregation/\n",
    "\n",
    "\n",
    "https://docs.mongodb.com/v3.0/tutorial/enable-authentication/\n",
    "\n",
    "\n",
    "http://3t.io/mongochef/\n",
    "\n",
    "\n",
    "https://www.tutorialspoint.com/mongodb/"
   ]
  }
 ],
 "metadata": {
  "anaconda-cloud": {},
  "kernelspec": {
   "display_name": "Python [conda root]",
   "language": "python",
   "name": "conda-root-py"
  },
  "language_info": {
   "codemirror_mode": {
    "name": "ipython",
    "version": 2
   },
   "file_extension": ".py",
   "mimetype": "text/x-python",
   "name": "python",
   "nbconvert_exporter": "python",
   "pygments_lexer": "ipython2",
   "version": "2.7.12"
  }
 },
 "nbformat": 4,
 "nbformat_minor": 1
}
